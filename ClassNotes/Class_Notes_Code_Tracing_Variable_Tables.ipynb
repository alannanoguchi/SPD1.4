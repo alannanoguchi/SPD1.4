{
 "cells": [
  {
   "cell_type": "markdown",
   "metadata": {},
   "source": [
    "Write down 2 each of:\n",
    "\n",
    "Good/normal inputs\n",
    "\n",
    "Bad/unusual inputs\n",
    "\n",
    "Edge case inputs\n",
    "\n",
    "For the following problem:\n",
    "\n",
    "Given an array of n numbers, find the number that is adjacent to its duplicate - that is, a[i] == a[i+1]."
   ]
  },
  {
   "cell_type": "code",
   "execution_count": null,
   "metadata": {},
   "outputs": [],
   "source": [
    "good_input = [2, 3, 4, 4, 5]\n",
    "bad_input= ['a', 2]\n",
    "edge_case = []      # empty list\n",
    "edge_case_2 = [1]"
   ]
  },
  {
   "cell_type": "markdown",
   "metadata": {},
   "source": [
    "### Variable Tables:\n",
    "\n",
    "A technique used to keep track of program state when manually deugging. It lists all variables that are currently in scope, alongside their values\n",
    "\n",
    "* Purpose: reduces making mistakes\n",
    "* Shows the interviewer that you are detailed oriented adn conscientious"
   ]
  },
  {
   "cell_type": "code",
   "execution_count": 5,
   "metadata": {},
   "outputs": [
    {
     "data": {
      "text/plain": [
       "7"
      ]
     },
     "execution_count": 5,
     "metadata": {},
     "output_type": "execute_result"
    }
   ],
   "source": [
    "# Variable : Value\n",
    "#        0. 1.  2.  3.  4.\n",
    "# lst : [2, 7, -13, 5, -4]\n",
    "# max_value : 7\n",
    "# num : -4\n",
    "# return : 7\n",
    "\n",
    "\n",
    "def find_max(lst):\n",
    "    max_value = float('-inf')\n",
    "    \n",
    "    for num in lst:     # loop through the numbers in the lst\n",
    "        if num > max_value:      # if the number in the lst is larger than the max_value\n",
    "            max_value = num      # change the max_value to the number\n",
    "    return max_value             # after finishing the loop, return the max_value\n",
    "    \n",
    "find_max([2, 7, -13, 5, -4])  # 7"
   ]
  },
  {
   "cell_type": "code",
   "execution_count": 9,
   "metadata": {},
   "outputs": [
    {
     "name": "stdout",
     "output_type": "stream",
     "text": [
      "[2, 4]\n"
     ]
    }
   ],
   "source": [
    "# Given a string and a substring, find all occurences of the substring within the string\n",
    "\n",
    "# Variable : Value\n",
    "#.          012345   length = 6\n",
    "# string : 'banana'\n",
    "# substring : 'na'\n",
    "# occurences: [2]\n",
    "# i = 3     --> 4 # we want to stop when i is 4\n",
    "\n",
    "\n",
    "def find_all_occurences(string, substring):\n",
    "    \n",
    "    occurences = []\n",
    "    \n",
    "    # loop over all character in the string, stop early according to length of substring\n",
    "    # range = [0, 1, 2, 3]\n",
    "    for i in range(len(string) - len(substring) + 1):     # we need to add the +1 so this will stop at the 2nd to last index\n",
    "        \n",
    "    \n",
    "    # for each of those starting chars, check if the substring matches\n",
    "        if substring == string[i: i+len(substring)]:      # if the string length is from the first index to the index of i plus the length of the subtring\n",
    "    # if so, add that index to the solution array\n",
    "            occurences.append(i)\n",
    "    return occurences\n",
    "\n",
    "\n",
    "\n",
    "print(find_all_occurences('banana', 'na'))      # [2, 4]\n"
   ]
  },
  {
   "cell_type": "code",
   "execution_count": 10,
   "metadata": {},
   "outputs": [
    {
     "name": "stdout",
     "output_type": "stream",
     "text": [
      "Testing on [1, 2, 3, 4], [1, 2, 7, 4]\n",
      "✅ Passed!\n"
     ]
    }
   ],
   "source": [
    "#################################################################\n",
    "# Interview Question:\n",
    "# Given two arrays, determine if both arrays contain exactly the \n",
    "# same elements in the same order.\n",
    "#\n",
    "# Difficulty: EASY\n",
    "#################################################################\n",
    "\n",
    "# Your variable table goes here!\n",
    "\n",
    "# Variable : Value\n",
    "#. 0. 1. 2. 3 --> len 4\n",
    "# array1 : [1, 2, 3, 4] : 2\n",
    "#  0. 1. 2. 3.  --> 4\n",
    "# array2 : [1, 2, 7, 4] : 2\n",
    "#\n",
    "\n",
    "def arrays_identical(array1, array2):\n",
    "  # If arrays are different lengths, they are not identical.\n",
    "  if len(array1) != len(array2):\n",
    "    return False\n",
    "    \n",
    "  # Loop over each element to see if the items are equal.\n",
    "  for i in range(len(array1)):\n",
    "    if array1[i] != array2[i]:\n",
    "      return False\n",
    "    # else:          # having this else: return True will stop the for loop so remove it\n",
    "    #   return True\n",
    "  \n",
    "  # If all items are equal, then arrays are identical.\n",
    "  return True\n",
    "\n",
    "\n",
    "actual = arrays_identical([1, 2, 3, 4], [1, 2, 7, 4])\n",
    "expected = False\n",
    "\n",
    "print(f\"Testing on {[1, 2, 3, 4]}, {[1, 2, 7, 4]}\")\n",
    "if expected == actual:\n",
    "  print(\"✅ Passed!\")\n",
    "else:\n",
    "  print(f\"❌ Failed! Expected {expected}, got {actual}\")"
   ]
  },
  {
   "cell_type": "code",
   "execution_count": 13,
   "metadata": {},
   "outputs": [
    {
     "name": "stdout",
     "output_type": "stream",
     "text": [
      "Testing on [7, 2, 5, 9, 3, 4]\n",
      "✅ Passed!\n"
     ]
    }
   ],
   "source": [
    "#################################################################\n",
    "# Interview Question:\n",
    "# Given a list of n numbers, find the highest pair of adjacent\n",
    "# elements. That is, maximize a[i] + a[i+1] for some i.\n",
    "#\n",
    "# Difficulty: MEDIUM\n",
    "#################################################################\n",
    "\n",
    "\n",
    "# Your variable table goes here!\n",
    "\n",
    "# Variable : Value\n",
    "#\n",
    "#\n",
    "#\n",
    "#\n",
    "\n",
    "def find_highest_pair(the_list):\n",
    "  # Set it to lowest possible number\n",
    "  highest_pair = float('-inf')\n",
    "  \n",
    "  # Loop over all indices in the list\n",
    "  for i in range(len(the_list) - 1):\n",
    "    # For each index, see if the pair starting at index is higher\n",
    "    # than highest we've seen so far\n",
    "    if the_list[i] + the_list[i+1] > highest_pair:\n",
    "      highest_pair = the_list[i] + the_list[i+1]\n",
    "      \n",
    "  return highest_pair\n",
    "  \n",
    "\n",
    "actual = find_highest_pair([7, 2, 5, 9, 3, 4])\n",
    "expected = 14\n",
    "\n",
    "print(f\"Testing on {[7, 2, 5, 9, 3, 4]}\")\n",
    "if expected == actual:\n",
    "  print(\"✅ Passed!\")\n",
    "else:\n",
    "  print(f\"❌ Failed! Expected {expected}, got {actual}\")"
   ]
  },
  {
   "cell_type": "code",
   "execution_count": 12,
   "metadata": {},
   "outputs": [
    {
     "name": "stdout",
     "output_type": "stream",
     "text": [
      "Testing on 'one fish two fish red fish blue fish'\n",
      "✅ Passed!\n"
     ]
    }
   ],
   "source": [
    "#################################################################\n",
    "# Interview Question:\n",
    "# Given a string containing a long text, find the most commonly \n",
    "# occurring word in the text as well as its count.\n",
    "#\n",
    "# Difficulty: MEDIUM\n",
    "#################################################################\n",
    "\n",
    "\n",
    "# Your variable table goes here!\n",
    "\n",
    "# Variable : Value\n",
    "#          0.  1.  2.   3.   4.  5.   6.  7  \n",
    "# text : 'one fish two fish red fish blue fish'\n",
    "# word : 'one': 0\n",
    "# word : 'fish' : 0\n",
    "# histogram [{'one': 0, 'fish' : 1, 'two': 0, }]\n",
    "\n",
    "def find_most_common_word(text):\n",
    "  text_as_list = text.split(' ')\n",
    "  histogram = {}\n",
    "  \n",
    "  # Make a dictionary of word -> count\n",
    "  for word in text_as_list:\n",
    "    if word not in histogram:\n",
    "      histogram[word] = 1\n",
    "    else:\n",
    "      histogram[word] += 1\n",
    "      \n",
    "  # Find most common word\n",
    "  most_common_word = text_as_list[0]\n",
    "  for word in histogram:\n",
    "    if histogram[word] > histogram[most_common_word]:\n",
    "      most_common_word = word\n",
    "  \n",
    "  return (most_common_word, histogram[most_common_word])\n",
    "\n",
    "\n",
    "expected = ('fish', 4)\n",
    "actual = find_most_common_word('one fish two fish red fish blue fish')\n",
    "\n",
    "print(\"Testing on 'one fish two fish red fish blue fish'\")\n",
    "if expected == actual:\n",
    "  print(\"✅ Passed!\")\n",
    "else:\n",
    "  print(f\"❌ Failed! Expected {expected}, got {actual}\")"
   ]
  },
  {
   "cell_type": "code",
   "execution_count": 19,
   "metadata": {},
   "outputs": [
    {
     "name": "stdout",
     "output_type": "stream",
     "text": [
      "Testing on 'abcaxyz'\n",
      "❌ Failed! Expected bcaxyz, got bcaxy\n"
     ]
    }
   ],
   "source": [
    "#################################################################\n",
    "# Interview Question:\n",
    "# Given a string, find the longest substring containing all unique\n",
    "# characters.\n",
    "#\n",
    "# Difficulty: HARD\n",
    "#################################################################\n",
    "\n",
    "\n",
    "class Histogram:\n",
    "  \"\"\"Helper class to store a histogram of letter -> count.\"\"\"\n",
    "  def __init__(self):\n",
    "    self.dict = {}\n",
    "\n",
    "  def add(self, value):\n",
    "    \"\"\"If value already exists, increase its count. Otherwise, add it.\"\"\"\n",
    "    if value in self.dict:\n",
    "      self.dict[value] += 1\n",
    "    else:\n",
    "      self.dict[value] = 1\n",
    "\n",
    "  def remove(self, value):\n",
    "    \"\"\"Decrease value's count. If count <= 0, remove it.\"\"\"\n",
    "    if value not in self.dict:\n",
    "      return\n",
    "    self.dict[value] -= 1\n",
    "    if self.dict[value] <= 0:\n",
    "      self.dict.pop(value)\n",
    "\n",
    "  def contains(self, value):\n",
    "    return value in self.dict\n",
    "\n",
    "  def get(self, value):\n",
    "    return self.dict[value]\n",
    "\n",
    "\n",
    "# Your variable table goes here!\n",
    "\n",
    "# Variable : Value\n",
    "# str : 'abcaxyz'\n",
    "# start = 0\n",
    "# end = 0\n",
    "# longest_unique_substring = 'a'\n",
    "# Histogram = {'a' : 1, }\n",
    "# \n",
    "\n",
    "def longest_unique_substring(str):\n",
    "  # Define starting variables. 'start' and 'end' will determine which\n",
    "  # substring we're currently looking at\n",
    "  start = 0\n",
    "  end = 0\n",
    "  chars_seen = Histogram()\n",
    "  \n",
    "  longest_unique_substring = ''\n",
    "  \n",
    "  while end < len(str):\n",
    "    if len(str[start:end]) > len(longest_unique_substring):\n",
    "      longest_unique_substring = str[start:end]\n",
    "#       longest_unique_substring[start] = ''\n",
    "      \n",
    "    next_char = str[end]\n",
    "    \n",
    "    while chars_seen.contains(next_char):\n",
    "      chars_seen.remove(str[start])\n",
    "      start += 1\n",
    "    \n",
    "    chars_seen.add(next_char)\n",
    "    end += 1\n",
    "  \n",
    "  return longest_unique_substring\n",
    "  \n",
    "\n",
    "expected = 'bcaxyz'\n",
    "actual = longest_unique_substring('abcaxyz')\n",
    "\n",
    "print(\"Testing on 'abcaxyz'\")\n",
    "if expected == actual:\n",
    "  print(\"✅ Passed!\")\n",
    "else:\n",
    "  print(f\"❌ Failed! Expected {expected}, got {actual}\")"
   ]
  },
  {
   "cell_type": "code",
   "execution_count": null,
   "metadata": {},
   "outputs": [],
   "source": []
  }
 ],
 "metadata": {
  "kernelspec": {
   "display_name": "Python 3",
   "language": "python",
   "name": "python3"
  },
  "language_info": {
   "codemirror_mode": {
    "name": "ipython",
    "version": 3
   },
   "file_extension": ".py",
   "mimetype": "text/x-python",
   "name": "python",
   "nbconvert_exporter": "python",
   "pygments_lexer": "ipython3",
   "version": "3.7.4"
  }
 },
 "nbformat": 4,
 "nbformat_minor": 2
}
