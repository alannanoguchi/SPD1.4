{
 "cells": [
  {
   "cell_type": "markdown",
   "metadata": {},
   "source": [
    "Find the k largest values in an array of n numbers. Return them in a new array sorted in decreasing order.\n",
    "* Good/Normal Inputs:\n",
    "    - array [1, 3, 5, 10, 2] k=3\n",
    "    - array [12, 6, 4, 0] k=1\n",
    "    - array [-1, -10, -23] k=2"
   ]
  },
  {
   "cell_type": "code",
   "execution_count": 61,
   "metadata": {},
   "outputs": [
    {
     "data": {
      "text/plain": [
       "[99, 33]"
      ]
     },
     "execution_count": 61,
     "metadata": {},
     "output_type": "execute_result"
    }
   ],
   "source": [
    "def largest_value(arr, k):\n",
    "    arr = [12, 33, 4, 5, 1, 99]\n",
    "    k = 2\n",
    "    arr.sort(reverse=True)   # sorts and reverses the array\n",
    "    \n",
    "#     for i in range(k):\n",
    "#         return arr[k::-1]\n",
    "    return arr[0:k]    # the values are in reversed sorted order so return the 0 index up to k\n",
    "\n",
    "largest_value(arr, k) # [99, 33]"
   ]
  },
  {
   "cell_type": "markdown",
   "metadata": {},
   "source": [
    "Given an array a of numbers and a target value t, find two numbers that sum to t (that is, a[i] + a[j] = t).\n",
    "* Good/Normal Inputs:\n",
    "    - array[12, 3, 5, 10, 2] t=7\n",
    "    - array[-1, 1, 6, 3, 2] t=5\n",
    "    - array[10, 13, 65, 99] t=30"
   ]
  },
  {
   "cell_type": "code",
   "execution_count": 66,
   "metadata": {},
   "outputs": [
    {
     "name": "stdout",
     "output_type": "stream",
     "text": [
      "[4, 2]\n",
      "[37, -3]\n"
     ]
    }
   ],
   "source": [
    "def two_sum(nums, target):\n",
    "    diff = set()\n",
    "    \n",
    "    for num in nums:\n",
    "        if target - num in diff:\n",
    "            return [num, target-num]\n",
    "        else:\n",
    "            diff.add(num)\n",
    "    return []\n",
    "\n",
    "print(two_sum([3, 2, 4], 6))\n",
    "print(two_sum([49, -3, 50, 37, 41], 34))"
   ]
  },
  {
   "cell_type": "markdown",
   "metadata": {},
   "source": [
    "Given a list of n strings with mixed casing, return a new list of all strings that start with a capitalized letter.\n",
    "* Good/Normal Input:\n",
    "    - str(\"A\", \"bD\", \"XY\", \"gg\")\n",
    "    - str(\"popCorn\", \"Is\", \"YUMMMY\")"
   ]
  },
  {
   "cell_type": "code",
   "execution_count": null,
   "metadata": {},
   "outputs": [],
   "source": []
  },
  {
   "cell_type": "markdown",
   "metadata": {},
   "source": [
    "Find the longest substring of unique letters in a given string of n letters.\n",
    "* Good/Normal Input:\n",
    "    - string(\"abcdef\")\n",
    "    - string(\"aaaaaaaaa\")\n",
    "    - string(\"ababcabcdabcde\")"
   ]
  },
  {
   "cell_type": "code",
   "execution_count": null,
   "metadata": {},
   "outputs": [],
   "source": []
  }
 ],
 "metadata": {
  "kernelspec": {
   "display_name": "Python 3",
   "language": "python",
   "name": "python3"
  },
  "language_info": {
   "codemirror_mode": {
    "name": "ipython",
    "version": 3
   },
   "file_extension": ".py",
   "mimetype": "text/x-python",
   "name": "python",
   "nbconvert_exporter": "python",
   "pygments_lexer": "ipython3",
   "version": "3.7.4"
  }
 },
 "nbformat": 4,
 "nbformat_minor": 2
}
