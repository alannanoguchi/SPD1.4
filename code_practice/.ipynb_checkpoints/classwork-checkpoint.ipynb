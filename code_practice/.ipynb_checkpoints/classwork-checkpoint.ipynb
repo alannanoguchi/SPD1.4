{
 "cells": [
  {
   "cell_type": "code",
   "execution_count": 1,
   "metadata": {},
   "outputs": [
    {
     "name": "stdout",
     "output_type": "stream",
     "text": [
      "nrocpop\n"
     ]
    }
   ],
   "source": [
    "def reverse_string(my_string):\n",
    "    reversedstr = \"\"\n",
    "    index = len(my_string) - 1\n",
    "    \n",
    "    while index >= 0:\n",
    "        reversedstr += my_string[index]\n",
    "        index -= 1\n",
    "        \n",
    "    return reversedstr\n",
    "\n",
    "print(reverse_string(\"popcorn\"))        "
   ]
  },
  {
   "cell_type": "code",
   "execution_count": 10,
   "metadata": {},
   "outputs": [
    {
     "data": {
      "text/plain": [
       "10"
      ]
     },
     "execution_count": 10,
     "metadata": {},
     "output_type": "execute_result"
    }
   ],
   "source": [
    "def compute_sum(n):\n",
    "    num = 0\n",
    "    \n",
    "    for i in range(1, n + 1):\n",
    "        num = num + i\n",
    "    return num\n",
    "compute_sum(4) # 1 + 2 + 3 + 4 = 10"
   ]
  },
  {
   "cell_type": "code",
   "execution_count": 14,
   "metadata": {},
   "outputs": [
    {
     "data": {
      "text/plain": [
       "10"
      ]
     },
     "execution_count": 14,
     "metadata": {},
     "output_type": "execute_result"
    }
   ],
   "source": [
    "def compute_sum_recursive(n):\n",
    "    if n == 1:\n",
    "        return 1\n",
    "    elif n > 1:\n",
    "        return n + compute_sum_recursive(n - 1)\n",
    "    \n",
    "compute_sum_recursive(4)"
   ]
  },
  {
   "cell_type": "code",
   "execution_count": null,
   "metadata": {},
   "outputs": [],
   "source": []
  }
 ],
 "metadata": {
  "kernelspec": {
   "display_name": "Python 3",
   "language": "python",
   "name": "python3"
  },
  "language_info": {
   "codemirror_mode": {
    "name": "ipython",
    "version": 3
   },
   "file_extension": ".py",
   "mimetype": "text/x-python",
   "name": "python",
   "nbconvert_exporter": "python",
   "pygments_lexer": "ipython3",
   "version": "3.7.4"
  }
 },
 "nbformat": 4,
 "nbformat_minor": 2
}
