{
 "cells": [
  {
   "cell_type": "markdown",
   "metadata": {},
   "source": [
    "Given a string S, remove the vowels 'a', 'e', 'i', 'o', and 'u' from it, and return the new string."
   ]
  },
  {
   "cell_type": "markdown",
   "metadata": {},
   "source": [
    "Example 1:\n",
    "\n",
    "* Input: \"leetcodeisacommunityforcoders\"\n",
    "* Output: \"ltcdscmmntyfrcdrs\""
   ]
  },
  {
   "cell_type": "code",
   "execution_count": 26,
   "metadata": {},
   "outputs": [],
   "source": [
    "S = \"leetcodeisacommunityforcoders\""
   ]
  },
  {
   "cell_type": "code",
   "execution_count": 29,
   "metadata": {},
   "outputs": [
    {
     "data": {
      "text/plain": [
       "'ltcdscmmntyfrcdrs'"
      ]
     },
     "execution_count": 29,
     "metadata": {},
     "output_type": "execute_result"
    }
   ],
   "source": [
    "def remove_vowels(S): # define a function that takes the list as a parameter\n",
    "    vowels = ('a', 'e', 'i', 'o', 'u') # create a variable with all of the vowels in a list format\n",
    "    \n",
    "    for char in S: # for every character in the string S\n",
    "        if char in vowels: # if the character is included in the vowels list\n",
    "            S = S.replace(char, \"\") # replace the vowel\n",
    "    return S\n",
    "\n",
    "remove_vowels(S)"
   ]
  },
  {
   "cell_type": "raw",
   "metadata": {},
   "source": [
    "Table: Person\n",
    "\n",
    "+-------------+---------+\n",
    "| Column Name | Type    |\n",
    "+-------------+---------+\n",
    "| PersonId    | int     |\n",
    "| FirstName   | varchar |\n",
    "| LastName    | varchar |\n",
    "+-------------+---------+\n",
    "PersonId is the primary key column for this table.\n",
    "Table: Address\n",
    "\n",
    "+-------------+---------+\n",
    "| Column Name | Type    |\n",
    "+-------------+---------+\n",
    "| AddressId   | int     |\n",
    "| PersonId    | int     |\n",
    "| City        | varchar |\n",
    "| State       | varchar |\n",
    "+-------------+---------+\n",
    "AddressId is the primary key column for this table."
   ]
  },
  {
   "cell_type": "markdown",
   "metadata": {},
   "source": [
    "Write a SQL query for a report that provides the following information for each person in the Person table, regardless if there is an address for each of those people:\n",
    "\n",
    "FirstName, LastName, City, State"
   ]
  },
  {
   "cell_type": "markdown",
   "metadata": {},
   "source": [
    "### Steps:\n",
    "* We want to return 4 things: FirstName, LastName, City State\n",
    "* Person table includes 2 of things we want: FirstName, LastaName\n",
    "* Address table also includes 2 things we want: City, State\n",
    "* Use SQL's LEFT JOIN to add the data from Address table to the Person table."
   ]
  },
  {
   "cell_type": "code",
   "execution_count": 25,
   "metadata": {},
   "outputs": [
    {
     "ename": "SyntaxError",
     "evalue": "invalid syntax (<ipython-input-25-6dd673f72ab7>, line 1)",
     "output_type": "error",
     "traceback": [
      "\u001b[0;36m  File \u001b[0;32m\"<ipython-input-25-6dd673f72ab7>\"\u001b[0;36m, line \u001b[0;32m1\u001b[0m\n\u001b[0;31m    select FirstName, LastName, City, State\u001b[0m\n\u001b[0m                   ^\u001b[0m\n\u001b[0;31mSyntaxError\u001b[0m\u001b[0;31m:\u001b[0m invalid syntax\n"
     ]
    }
   ],
   "source": [
    "SELECT FirstName, LastName, City State\n",
    "from Person \n",
    "LEFT JOIN Address\n",
    "    ON Person.PersonId = Address.PersonId\n",
    ";"
   ]
  },
  {
   "cell_type": "markdown",
   "metadata": {},
   "source": [
    "Write function that returns the sum of the first and last elements of a given list might look like this:"
   ]
  },
  {
   "cell_type": "code",
   "execution_count": 2,
   "metadata": {},
   "outputs": [],
   "source": [
    "list = [12, 2, 3, 4, 111, 100]"
   ]
  },
  {
   "cell_type": "code",
   "execution_count": 4,
   "metadata": {},
   "outputs": [
    {
     "data": {
      "text/plain": [
       "112"
      ]
     },
     "execution_count": 4,
     "metadata": {},
     "output_type": "execute_result"
    }
   ],
   "source": [
    "def first_plus_last(list):\n",
    "    return list[0] + list[-1] # index [-1] is the last item in an array\n",
    "\n",
    "first_plus_last(list)"
   ]
  },
  {
   "cell_type": "code",
   "execution_count": null,
   "metadata": {},
   "outputs": [],
   "source": []
  }
 ],
 "metadata": {
  "kernelspec": {
   "display_name": "Python 3",
   "language": "python",
   "name": "python3"
  },
  "language_info": {
   "codemirror_mode": {
    "name": "ipython",
    "version": 3
   },
   "file_extension": ".py",
   "mimetype": "text/x-python",
   "name": "python",
   "nbconvert_exporter": "python",
   "pygments_lexer": "ipython3",
   "version": "3.7.4"
  }
 },
 "nbformat": 4,
 "nbformat_minor": 2
}
