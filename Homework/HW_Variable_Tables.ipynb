{
 "cells": [
  {
   "cell_type": "markdown",
   "metadata": {},
   "source": [
    "Given a non-negative integer num, return the number of steps to reduce it to zero. If the current number is even, you have to divide it by 2, otherwise, you have to subtract 1 from it."
   ]
  },
  {
   "cell_type": "code",
   "execution_count": 2,
   "metadata": {},
   "outputs": [
    {
     "data": {
      "text/plain": [
       "5"
      ]
     },
     "execution_count": 2,
     "metadata": {},
     "output_type": "execute_result"
    }
   ],
   "source": [
    "# Variable : Value\n",
    "# num : 10\n",
    "# 10 / 2 = 5 --> step = 1\n",
    "# 5 - 1 = 4 --> step = 2\n",
    "# 4 / 2 = 2 --> step = 3\n",
    "# 2 / 2 = 1 --> step = 4\n",
    "# 1 - 0 --> step = 5\n",
    "# return 5\n",
    "\n",
    "\n",
    "\n",
    "\n",
    "def number_of_steps(num):\n",
    "    # keep a step count, increase it by 1 every time the num is divided or subtracted by 1\n",
    "    # create loop: while the number is greater than 0:\n",
    "    # then check to see if the number is even, when divided by 2 returns 0 remainder\n",
    "    # if it is, then divide number by 2\n",
    "    # if number is odd, then subtract 1 to make it even\n",
    "    \n",
    "    steps = 0 \n",
    "        \n",
    "    while num > 0:\n",
    "\n",
    "        # if num is even, divide it by 2\n",
    "        if num % 2 == 0:\n",
    "            num = num // 2\n",
    "\n",
    "        # else the number is odd, so subtract num by 1\n",
    "        else: \n",
    "            num = num - 1\n",
    "\n",
    "        # increase the step count until num is 0    \n",
    "        steps += 1\n",
    "    return steps\n",
    "        \n",
    "number_of_steps(10)   # 5"
   ]
  },
  {
   "cell_type": "markdown",
   "metadata": {},
   "source": [
    "Given two strings s and t , write a function to determine if t is an anagram of s.\n",
    "\n",
    "Example 1:\n",
    "\n",
    "Input: s = \"anagram\", t = \"nagaram\"\n",
    "Output: true\n",
    "\n",
    "\n",
    "anagram = a word, phrase, or name formed by rearranging the letters of another, such as cinema, formed from iceman."
   ]
  },
  {
   "cell_type": "code",
   "execution_count": 12,
   "metadata": {},
   "outputs": [
    {
     "name": "stdout",
     "output_type": "stream",
     "text": [
      "True\n",
      "False\n"
     ]
    }
   ],
   "source": [
    "# Variable : Value\n",
    "#            012345    len = 6\n",
    "# string1 : \"anagram\"\n",
    "#            0123456   len = 6\n",
    "# string2 : \"nagaram\"\n",
    "# sorted(string1) : aaagmnr\n",
    "# sorted(string2) : aaagmnr\n",
    "# aaagmnr == aaagmnr --> True\n",
    "\n",
    "\n",
    "def isAnagram(string1, string2):\n",
    "        \n",
    "        if len(string1) != len(string2):    # if the length of the strings are not the same, they are not anagrams\n",
    "            return False\n",
    "        if sorted(string1) == sorted(string2):   # if the sorted strings are the same, return True they are anagrams\n",
    "            return True\n",
    "        else:\n",
    "            return False\n",
    "        \n",
    "print(isAnagram(\"anagram\", \"nagaram\")) # True\n",
    "print(isAnagram(\"rat\", \"car\"))  # False"
   ]
  },
  {
   "cell_type": "code",
   "execution_count": null,
   "metadata": {},
   "outputs": [],
   "source": []
  }
 ],
 "metadata": {
  "kernelspec": {
   "display_name": "Python 3",
   "language": "python",
   "name": "python3"
  },
  "language_info": {
   "codemirror_mode": {
    "name": "ipython",
    "version": 3
   },
   "file_extension": ".py",
   "mimetype": "text/x-python",
   "name": "python",
   "nbconvert_exporter": "python",
   "pygments_lexer": "ipython3",
   "version": "3.7.4"
  }
 },
 "nbformat": 4,
 "nbformat_minor": 2
}
