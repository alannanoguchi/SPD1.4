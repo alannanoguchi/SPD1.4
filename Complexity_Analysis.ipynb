{
 "cells": [
  {
   "cell_type": "markdown",
   "metadata": {},
   "source": [
    "## Big O Notation: describes how fast a function grows in the worst case scenario\n",
    "\n",
    "Time Complexity Analysis Bag O’ Tricks:\n",
    "\n",
    "\n",
    "\n",
    "### Constant Time O(1):\n",
    "* Basic operators (math operations, variable access and assignment, appending to a list without needed to shift or reorder other items, etc.)\n",
    "* Input size does not affect runtime\n",
    "\n",
    "\n",
    "### Linear Time O(n):\n",
    "* As input size grows, the number of steps is proportional (grows as fast)\n",
    "* Iterating over all (or most) of a data structure ⇒ depends on its size\n",
    "* Filtering or reversing a data structure\n",
    "* In general, for/while loops\n",
    "\n",
    "### Quadratic Time O(n^2):\n",
    "* “Nested” linear\n",
    "* Double for loops\n",
    "    * But when does this not apply?\n",
    "        * Palindromes!\n",
    "\n",
    "### Log Time O(log n):\n",
    "* Cutting your sample space in half after each iteration\n",
    "    * Binary search\n",
    "    \n",
    "### Log-Linear O(n log n):\n",
    "* Efficient sorting algorithms\n",
    "\n",
    "### Exponential Time O(2^n):\n",
    "* Doubling your sample space with each iteration\n",
    "    * Recursive factorial\n",
    "* Draw out the function calls. Branching-tree shape generally means exponential\n",
    "    * When does it not?\n"
   ]
  },
  {
   "cell_type": "code",
   "execution_count": 11,
   "metadata": {},
   "outputs": [
    {
     "name": "stdout",
     "output_type": "stream",
     "text": [
      "Found match!\n",
      "Found match!\n"
     ]
    }
   ],
   "source": [
    "# Quadratic Time: O(n^2)\n",
    "# runtime:m n * n/2 = 1/2 * \n",
    "def find_match(list):\n",
    "    for i, element1 in enumerate(list):   # how many things? 8\n",
    "        for j, element2 in enumerate(list[i+1:]):   # how many things? ~4\n",
    "            if element1 == element2:\n",
    "                print(\"Found match!\")\n",
    "                \n",
    "find_match([2, 4, 9, 2, 6, 8, 9])"
   ]
  },
  {
   "cell_type": "code",
   "execution_count": 16,
   "metadata": {},
   "outputs": [
    {
     "data": {
      "text/plain": [
       "5"
      ]
     },
     "execution_count": 16,
     "metadata": {},
     "output_type": "execute_result"
    }
   ],
   "source": [
    "# Log Time: O(log n):\n",
    "# 2 | 3 | 7 | 13 | 20 | 24 | 27     target: 24\n",
    "# mid = 13, is the target smaller or bigger?\n",
    "# bigger, so ignore the smaller half\n",
    "def binary_search(list, target):\n",
    "    \n",
    "    start = 0\n",
    "    end = len(list) - 1\n",
    "    \n",
    "    while start < end:\n",
    "        mid = (start + end) // 2\n",
    "        if list[mid] == target:\n",
    "            return mid\n",
    "        elif list[mid] > target:  # if the mid is greater than the target, we want to look at the first half\n",
    "            end = mid - 1\n",
    "        else:\n",
    "            start = mid + 1\n",
    "    return - 1\n",
    "\n",
    "binary_search([2, 3, 7, 13, 20, 24, 27], 24)"
   ]
  },
  {
   "cell_type": "code",
   "execution_count": 20,
   "metadata": {},
   "outputs": [],
   "source": [
    "# Log-Linear: O(n log n)\n",
    "def do_something(list):\n",
    "    list2 = list.sort()         \n",
    "    return list2\n",
    "\n",
    "do_something([2, 5, 4, 7, 6, 8, 12, 10])"
   ]
  },
  {
   "cell_type": "code",
   "execution_count": null,
   "metadata": {},
   "outputs": [],
   "source": []
  }
 ],
 "metadata": {
  "kernelspec": {
   "display_name": "Python 3",
   "language": "python",
   "name": "python3"
  },
  "language_info": {
   "codemirror_mode": {
    "name": "ipython",
    "version": 3
   },
   "file_extension": ".py",
   "mimetype": "text/x-python",
   "name": "python",
   "nbconvert_exporter": "python",
   "pygments_lexer": "ipython3",
   "version": "3.7.4"
  }
 },
 "nbformat": 4,
 "nbformat_minor": 2
}
